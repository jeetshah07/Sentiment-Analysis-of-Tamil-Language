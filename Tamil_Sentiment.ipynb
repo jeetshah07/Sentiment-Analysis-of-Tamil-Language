{
 "cells": [
  {
   "cell_type": "code",
   "execution_count": 1,
   "id": "a8260e4a-cb1b-4a62-9070-1ba6e9666a38",
   "metadata": {},
   "outputs": [
    {
     "name": "stderr",
     "output_type": "stream",
     "text": [
      "[nltk_data] Downloading package stopwords to\n",
      "[nltk_data]     C:\\Users\\User\\AppData\\Roaming\\nltk_data...\n",
      "[nltk_data]   Package stopwords is already up-to-date!\n",
      "[nltk_data] Downloading package punkt to\n",
      "[nltk_data]     C:\\Users\\User\\AppData\\Roaming\\nltk_data...\n",
      "[nltk_data]   Package punkt is already up-to-date!\n",
      "C:\\Users\\User\\AppData\\Local\\Temp\\ipykernel_21324\\63939119.py:38: SettingWithCopyWarning: \n",
      "A value is trying to be set on a copy of a slice from a DataFrame.\n",
      "Try using .loc[row_indexer,col_indexer] = value instead\n",
      "\n",
      "See the caveats in the documentation: https://pandas.pydata.org/pandas-docs/stable/user_guide/indexing.html#returning-a-view-versus-a-copy\n",
      "  df_cleaned['cleaned_text'] = df_cleaned['Text'].apply(preprocess_text)\n",
      "C:\\Users\\User\\AppData\\Local\\Temp\\ipykernel_21324\\63939119.py:41: SettingWithCopyWarning: \n",
      "A value is trying to be set on a copy of a slice from a DataFrame.\n",
      "Try using .loc[row_indexer,col_indexer] = value instead\n",
      "\n",
      "See the caveats in the documentation: https://pandas.pydata.org/pandas-docs/stable/user_guide/indexing.html#returning-a-view-versus-a-copy\n",
      "  df_cleaned['Sentiment'] = df_cleaned['Sentiment'].fillna('unknown_state')\n",
      "C:\\Users\\User\\AppData\\Local\\Temp\\ipykernel_21324\\63939119.py:51: SettingWithCopyWarning: \n",
      "A value is trying to be set on a copy of a slice from a DataFrame.\n",
      "Try using .loc[row_indexer,col_indexer] = value instead\n",
      "\n",
      "See the caveats in the documentation: https://pandas.pydata.org/pandas-docs/stable/user_guide/indexing.html#returning-a-view-versus-a-copy\n",
      "  df_cleaned['label'] = df_cleaned['Sentiment'].map(sentiment_mapping)\n"
     ]
    }
   ],
   "source": [
    "import pandas as pd\n",
    "import re\n",
    "import numpy as np\n",
    "from sklearn.model_selection import train_test_split\n",
    "from sklearn.metrics import classification_report\n",
    "from nltk.corpus import stopwords\n",
    "from nltk.tokenize import word_tokenize\n",
    "import nltk\n",
    "from tensorflow.keras.preprocessing.text import Tokenizer\n",
    "from tensorflow.keras.preprocessing.sequence import pad_sequences\n",
    "from tensorflow.keras.models import Sequential\n",
    "from tensorflow.keras.layers import Embedding, LSTM, Dense, SpatialDropout1D\n",
    "from tensorflow.keras.optimizers import Adam\n",
    "\n",
    "\n",
    "nltk.download('punkt')\n",
    "\n",
    "\n",
    "file_path = r'C:\\Users\\User\\Desktop\\Tamil_sentiments.csv'\n",
    "df = pd.read_csv(file_path, encoding='ISO-8859-1')\n",
    "\n",
    "\n",
    "df_cleaned = df.dropna(axis=1, how='all')\n",
    "\n",
    "\n",
    "def preprocess_text(text):\n",
    "    if pd.isna(text):\n",
    "        return \"\"\n",
    "    text = re.sub(r'\\W', ' ', text)  # Remove special characters\n",
    "    text = re.sub(r'\\s+', ' ', text)  # Remove extra spaces\n",
    "    text = text.lower()  # Convert to lowercase\n",
    "    text = word_tokenize(text)  # Tokenize\n",
    "    text = [word for word in text if word not in stopwords.words('english')]  # Remove stopwords\n",
    "    return ' '.join(text)\n",
    "\n",
    "\n",
    "df_cleaned['cleaned_text'] = df_cleaned['Text'].apply(preprocess_text)\n",
    "\n",
    "# Handle NaN sentiments by filling with a placeholder\n",
    "df_cleaned['Sentiment'] = df_cleaned['Sentiment'].fillna('unknown_state')\n",
    "\n",
    "# Encode the labels\n",
    "sentiment_mapping = {\n",
    "    'Negative': 0,\n",
    "    'Positive': 1,\n",
    "    'Mixed_feelings': 2,\n",
    "    'not-Tamil': 3,\n",
    "    'unknown_state': 4\n",
    "}\n",
    "df_cleaned['label'] = df_cleaned['Sentiment'].map(sentiment_mapping)\n",
    "\n",
    "# Split the data into training and testing sets\n",
    "X_train, X_test, y_train, y_test = train_test_split(df_cleaned['cleaned_text'], df_cleaned['label'], test_size=0.2, random_state=42)\n",
    "\n",
    "# Define maximum number of words and maximum sequence length\n",
    "MAX_WORDS = 5000\n",
    "MAX_SEQUENCE_LENGTH = 100\n",
    "\n",
    "# Tokenize the text\n",
    "tokenizer = Tokenizer(num_words=MAX_WORDS)\n",
    "tokenizer.fit_on_texts(X_train)\n",
    "\n",
    "X_train_seq = tokenizer.texts_to_sequences(X_train)\n",
    "X_test_seq = tokenizer.texts_to_sequences(X_test)\n",
    "\n",
    "# Pad sequences to ensure uniform input size\n",
    "X_train_pad = pad_sequences(X_train_seq, maxlen=MAX_SEQUENCE_LENGTH)\n",
    "X_test_pad = pad_sequences(X_test_seq, maxlen=MAX_SEQUENCE_LENGTH)\n"
   ]
  },
  {
   "cell_type": "code",
   "execution_count": 2,
   "id": "35d2d313-aaed-4abb-82a0-a425e1ff271c",
   "metadata": {},
   "outputs": [
    {
     "name": "stdout",
     "output_type": "stream",
     "text": [
      "Epoch 1/5\n"
     ]
    },
    {
     "name": "stderr",
     "output_type": "stream",
     "text": [
      "C:\\Users\\User\\anaconda3\\Lib\\site-packages\\keras\\src\\layers\\core\\embedding.py:90: UserWarning: Argument `input_length` is deprecated. Just remove it.\n",
      "  warnings.warn(\n"
     ]
    },
    {
     "name": "stdout",
     "output_type": "stream",
     "text": [
      "\u001b[1m158/158\u001b[0m \u001b[32m━━━━━━━━━━━━━━━━━━━━\u001b[0m\u001b[37m\u001b[0m \u001b[1m21s\u001b[0m 115ms/step - accuracy: 0.6361 - loss: 1.1560 - val_accuracy: 0.6868 - val_loss: 0.9280\n",
      "Epoch 2/5\n",
      "\u001b[1m158/158\u001b[0m \u001b[32m━━━━━━━━━━━━━━━━━━━━\u001b[0m\u001b[37m\u001b[0m \u001b[1m19s\u001b[0m 119ms/step - accuracy: 0.6970 - loss: 0.8643 - val_accuracy: 0.7027 - val_loss: 0.8471\n",
      "Epoch 3/5\n",
      "\u001b[1m158/158\u001b[0m \u001b[32m━━━━━━━━━━━━━━━━━━━━\u001b[0m\u001b[37m\u001b[0m \u001b[1m21s\u001b[0m 130ms/step - accuracy: 0.7380 - loss: 0.7340 - val_accuracy: 0.7031 - val_loss: 0.8688\n",
      "Epoch 4/5\n",
      "\u001b[1m158/158\u001b[0m \u001b[32m━━━━━━━━━━━━━━━━━━━━\u001b[0m\u001b[37m\u001b[0m \u001b[1m20s\u001b[0m 125ms/step - accuracy: 0.7875 - loss: 0.6109 - val_accuracy: 0.6820 - val_loss: 0.9186\n",
      "Epoch 5/5\n",
      "\u001b[1m158/158\u001b[0m \u001b[32m━━━━━━━━━━━━━━━━━━━━\u001b[0m\u001b[37m\u001b[0m \u001b[1m21s\u001b[0m 132ms/step - accuracy: 0.8187 - loss: 0.5187 - val_accuracy: 0.6844 - val_loss: 0.9893\n",
      "\u001b[1m99/99\u001b[0m \u001b[32m━━━━━━━━━━━━━━━━━━━━\u001b[0m\u001b[37m\u001b[0m \u001b[1m3s\u001b[0m 27ms/step - accuracy: 0.6710 - loss: 0.9922\n",
      "Test Accuracy: 0.6887122392654419\n",
      "\u001b[1m99/99\u001b[0m \u001b[32m━━━━━━━━━━━━━━━━━━━━\u001b[0m\u001b[37m\u001b[0m \u001b[1m4s\u001b[0m 36ms/step\n",
      "                precision    recall  f1-score   support\n",
      "\n",
      "      Negative       0.43      0.17      0.24       387\n",
      "      Positive       0.74      0.90      0.81      2002\n",
      "Mixed_feelings       0.22      0.13      0.17       326\n",
      "     not-Tamil       0.66      0.65      0.65       102\n",
      " unknown_state       0.74      0.58      0.65       328\n",
      "\n",
      "      accuracy                           0.69      3145\n",
      "     macro avg       0.56      0.48      0.50      3145\n",
      "  weighted avg       0.64      0.69      0.65      3145\n",
      "\n"
     ]
    }
   ],
   "source": [
    "# Define the model\n",
    "model = Sequential()\n",
    "model.add(Embedding(MAX_WORDS, 100, input_length=MAX_SEQUENCE_LENGTH))\n",
    "model.add(SpatialDropout1D(0.2))\n",
    "model.add(LSTM(100, dropout=0.2, recurrent_dropout=0.2))\n",
    "model.add(Dense(5, activation='softmax'))\n",
    "\n",
    "model.compile(loss='sparse_categorical_crossentropy', optimizer=Adam(learning_rate=0.001), metrics=['accuracy'])\n",
    "\n",
    "# Train the model\n",
    "history = model.fit(X_train_pad, y_train, epochs=5, batch_size=64, validation_split=0.2, verbose=1)\n",
    "\n",
    "# Evaluate the model on the test set\n",
    "loss, accuracy = model.evaluate(X_test_pad, y_test, verbose=1)\n",
    "print(f'Test Accuracy: {accuracy}')\n",
    "\n",
    "# Make predictions\n",
    "y_pred = model.predict(X_test_pad)\n",
    "y_pred_classes = np.argmax(y_pred, axis=1)\n",
    "\n",
    "# Classification report\n",
    "print(classification_report(y_test, y_pred_classes, target_names=sentiment_mapping.keys()))\n"
   ]
  },
  {
   "cell_type": "code",
   "execution_count": 8,
   "id": "5104a4e9-bb4d-4b29-8263-b2dbda00554a",
   "metadata": {},
   "outputs": [
    {
     "name": "stdin",
     "output_type": "stream",
     "text": [
      "Enter a Tamil sentence in Roman script:  Thala mass  Hvy sprt kerala Surya anna fans'\n"
     ]
    },
    {
     "name": "stdout",
     "output_type": "stream",
     "text": [
      "\u001b[1m1/1\u001b[0m \u001b[32m━━━━━━━━━━━━━━━━━━━━\u001b[0m\u001b[37m\u001b[0m \u001b[1m0s\u001b[0m 40ms/step\n",
      "Sentiment: Positive\n"
     ]
    }
   ],
   "source": [
    "def predict_sentiment(text):\n",
    "    processed_text = preprocess_text(text)\n",
    "    seq = tokenizer.texts_to_sequences([processed_text])\n",
    "    padded = pad_sequences(seq, maxlen=MAX_SEQUENCE_LENGTH)\n",
    "    pred = model.predict(padded)\n",
    "    label = np.argmax(pred, axis=1)[0]\n",
    "    for sentiment, index in sentiment_mapping.items():\n",
    "        if index == label:\n",
    "            return sentiment\n",
    "\n",
    "# Take user input for a new Tamil sentence\n",
    "new_sentence = input(\"Enter a Tamil sentence in Roman script: \")\n",
    "predicted_sentiment = predict_sentiment(new_sentence)\n",
    "print(f'Sentiment: {predicted_sentiment}')\n"
   ]
  },
  {
   "cell_type": "code",
   "execution_count": null,
   "id": "878fcc25-769b-4f80-bf62-8aaa79162ee6",
   "metadata": {},
   "outputs": [],
   "source": []
  }
 ],
 "metadata": {
  "kernelspec": {
   "display_name": "Python 3 (ipykernel)",
   "language": "python",
   "name": "python3"
  },
  "language_info": {
   "codemirror_mode": {
    "name": "ipython",
    "version": 3
   },
   "file_extension": ".py",
   "mimetype": "text/x-python",
   "name": "python",
   "nbconvert_exporter": "python",
   "pygments_lexer": "ipython3",
   "version": "3.11.7"
  }
 },
 "nbformat": 4,
 "nbformat_minor": 5
}
